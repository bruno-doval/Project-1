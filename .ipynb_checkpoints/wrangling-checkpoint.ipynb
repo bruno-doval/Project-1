{
 "cells": [
  {
   "cell_type": "code",
   "execution_count": 1,
   "metadata": {},
   "outputs": [],
   "source": [
    "import numpy as np\n",
    "import pandas as pd\n",
    "import matplotlib.pyplot as plt\n",
    "from sklearn.linear_model import LinearRegression\n",
    "from sklearn.model_selection import train_test_split\n",
    "from sklearn.metrics import r2_score, mean_squared_error\n",
    "import seaborn as sns\n",
    "%matplotlib inline\n",
    "pd.set_option('display.max_columns', None)"
   ]
  },
  {
   "cell_type": "code",
   "execution_count": 65,
   "metadata": {},
   "outputs": [],
   "source": [
    "cal = pd.read_csv('./calendar.csv')\n",
    "listing = pd.read_csv('./listings.csv')\n",
    "review = pd.read_csv('./reviews.csv')"
   ]
  },
  {
   "cell_type": "code",
   "execution_count": 67,
   "metadata": {},
   "outputs": [],
   "source": [
    "def price_to_numeric(price_str):\n",
    "    try:\n",
    "        return float(price_str[1:])\n",
    "    except:\n",
    "        return None"
   ]
  },
  {
   "cell_type": "code",
   "execution_count": 68,
   "metadata": {},
   "outputs": [],
   "source": [
    "def clean_calendar_df(df):\n",
    "  # Cleans calendar.csv Pandas DataFrame\n",
    "    \n",
    "    df.date=pd.to_datetime(df.date)\n",
    "    df.price=df.price.apply(lambda x: price_to_numeric(x))\n",
    "    df.available=df.available.apply(lambda x: True if x=='t' else False)\n",
    "    \n",
    "    return df"
   ]
  },
  {
   "cell_type": "code",
   "execution_count": 69,
   "metadata": {},
   "outputs": [],
   "source": [
    "cal=clean_calendar_df(cal)"
   ]
  },
  {
   "cell_type": "code",
   "execution_count": 115,
   "metadata": {},
   "outputs": [],
   "source": [
    "def clean_listing_df(df,date_columns,t_f_columns):\n",
    "  \n",
    "   # Cleans listing.csv Pandas DataFrame\n",
    "\n",
    "    for date_col in date_columns:\n",
    "        df[date_col]=pd.to_datetime(df[date_col])\n",
    "    \n",
    "    for t_f_col in t_f_columns:\n",
    "        df[t_f_col]=df[t_f_col].apply(lambda x: True if x=='t' else False)\n",
    "    \n",
    "    df.price=df.price.apply(lambda x: price_to_numeric(x))\n",
    "\n",
    "    \n",
    "    return df"
   ]
  },
  {
   "cell_type": "code",
   "execution_count": 116,
   "metadata": {},
   "outputs": [],
   "source": [
    "date_columns_listing=['last_scraped','host_since','calendar_last_scraped','first_review','last_review']\n",
    "true_false_listing_columns=['host_is_superhost','host_has_profile_pic','host_identity_verified',\n",
    "                            'is_location_exact','has_availability','requires_license','instant_bookable',\n",
    "                            'require_guest_profile_picture','require_guest_phone_verification']\n",
    "\n",
    "\n",
    "listing=clean_listing_df(listing,date_columns_listing,true_false_listing_columns)"
   ]
  },
  {
   "cell_type": "code",
   "execution_count": 86,
   "metadata": {},
   "outputs": [],
   "source": [
    "categorical_listing=['host_response_time',\n",
    "                     'host_is_superhost',\n",
    "                     'host_neighbourhood',\n",
    "                     'neighbourhood',\n",
    "                     'neighbourhood_cleansed',\n",
    "                     'neighbourhood_group_cleansed',\n",
    "                     'host_has_profile_pic',\n",
    "                     'host_identity_verified',\n",
    "                     'is_location_exact',\n",
    "                     'property_type',\n",
    "                     'room_type',\n",
    "                     'bed_type',\n",
    "                     'calendar_updated',\n",
    "                     'has_availability',\n",
    "                     'instant_bookable',\n",
    "                     'cancellation_policy',\n",
    "                     'require_guest_profile_picture',\n",
    "                     'require_guest_phone_verification'\n",
    "                    ]"
   ]
  },
  {
   "cell_type": "code",
   "execution_count": 87,
   "metadata": {},
   "outputs": [
    {
     "data": {
      "text/html": [
       "<div>\n",
       "<style scoped>\n",
       "    .dataframe tbody tr th:only-of-type {\n",
       "        vertical-align: middle;\n",
       "    }\n",
       "\n",
       "    .dataframe tbody tr th {\n",
       "        vertical-align: top;\n",
       "    }\n",
       "\n",
       "    .dataframe thead th {\n",
       "        text-align: right;\n",
       "    }\n",
       "</style>\n",
       "<table border=\"1\" class=\"dataframe\">\n",
       "  <thead>\n",
       "    <tr style=\"text-align: right;\">\n",
       "      <th></th>\n",
       "      <th>listing_id</th>\n",
       "      <th>date</th>\n",
       "      <th>available</th>\n",
       "      <th>price</th>\n",
       "    </tr>\n",
       "  </thead>\n",
       "  <tbody>\n",
       "    <tr>\n",
       "      <th>0</th>\n",
       "      <td>241032</td>\n",
       "      <td>2016-01-04</td>\n",
       "      <td>True</td>\n",
       "      <td>85.0</td>\n",
       "    </tr>\n",
       "    <tr>\n",
       "      <th>1</th>\n",
       "      <td>241032</td>\n",
       "      <td>2016-01-05</td>\n",
       "      <td>True</td>\n",
       "      <td>85.0</td>\n",
       "    </tr>\n",
       "    <tr>\n",
       "      <th>2</th>\n",
       "      <td>241032</td>\n",
       "      <td>2016-01-06</td>\n",
       "      <td>False</td>\n",
       "      <td>NaN</td>\n",
       "    </tr>\n",
       "    <tr>\n",
       "      <th>3</th>\n",
       "      <td>241032</td>\n",
       "      <td>2016-01-07</td>\n",
       "      <td>False</td>\n",
       "      <td>NaN</td>\n",
       "    </tr>\n",
       "    <tr>\n",
       "      <th>4</th>\n",
       "      <td>241032</td>\n",
       "      <td>2016-01-08</td>\n",
       "      <td>False</td>\n",
       "      <td>NaN</td>\n",
       "    </tr>\n",
       "  </tbody>\n",
       "</table>\n",
       "</div>"
      ],
      "text/plain": [
       "   listing_id       date  available  price\n",
       "0      241032 2016-01-04       True   85.0\n",
       "1      241032 2016-01-05       True   85.0\n",
       "2      241032 2016-01-06      False    NaN\n",
       "3      241032 2016-01-07      False    NaN\n",
       "4      241032 2016-01-08      False    NaN"
      ]
     },
     "execution_count": 87,
     "metadata": {},
     "output_type": "execute_result"
    }
   ],
   "source": [
    "cal.head()"
   ]
  },
  {
   "cell_type": "code",
   "execution_count": 73,
   "metadata": {},
   "outputs": [
    {
     "data": {
      "text/html": [
       "<div>\n",
       "<style scoped>\n",
       "    .dataframe tbody tr th:only-of-type {\n",
       "        vertical-align: middle;\n",
       "    }\n",
       "\n",
       "    .dataframe tbody tr th {\n",
       "        vertical-align: top;\n",
       "    }\n",
       "\n",
       "    .dataframe thead th {\n",
       "        text-align: right;\n",
       "    }\n",
       "</style>\n",
       "<table border=\"1\" class=\"dataframe\">\n",
       "  <thead>\n",
       "    <tr style=\"text-align: right;\">\n",
       "      <th></th>\n",
       "      <th>id</th>\n",
       "      <th>listing_url</th>\n",
       "      <th>scrape_id</th>\n",
       "      <th>last_scraped</th>\n",
       "      <th>name</th>\n",
       "      <th>summary</th>\n",
       "      <th>space</th>\n",
       "      <th>description</th>\n",
       "      <th>experiences_offered</th>\n",
       "      <th>neighborhood_overview</th>\n",
       "      <th>notes</th>\n",
       "      <th>transit</th>\n",
       "      <th>thumbnail_url</th>\n",
       "      <th>medium_url</th>\n",
       "      <th>picture_url</th>\n",
       "      <th>xl_picture_url</th>\n",
       "      <th>host_id</th>\n",
       "      <th>host_url</th>\n",
       "      <th>host_name</th>\n",
       "      <th>host_since</th>\n",
       "      <th>host_location</th>\n",
       "      <th>host_about</th>\n",
       "      <th>host_response_time</th>\n",
       "      <th>host_response_rate</th>\n",
       "      <th>host_acceptance_rate</th>\n",
       "      <th>host_is_superhost</th>\n",
       "      <th>host_thumbnail_url</th>\n",
       "      <th>host_picture_url</th>\n",
       "      <th>host_neighbourhood</th>\n",
       "      <th>host_listings_count</th>\n",
       "      <th>host_total_listings_count</th>\n",
       "      <th>host_verifications</th>\n",
       "      <th>host_has_profile_pic</th>\n",
       "      <th>host_identity_verified</th>\n",
       "      <th>street</th>\n",
       "      <th>neighbourhood</th>\n",
       "      <th>neighbourhood_cleansed</th>\n",
       "      <th>neighbourhood_group_cleansed</th>\n",
       "      <th>city</th>\n",
       "      <th>state</th>\n",
       "      <th>zipcode</th>\n",
       "      <th>market</th>\n",
       "      <th>smart_location</th>\n",
       "      <th>country_code</th>\n",
       "      <th>country</th>\n",
       "      <th>latitude</th>\n",
       "      <th>longitude</th>\n",
       "      <th>is_location_exact</th>\n",
       "      <th>property_type</th>\n",
       "      <th>room_type</th>\n",
       "      <th>accommodates</th>\n",
       "      <th>bathrooms</th>\n",
       "      <th>bedrooms</th>\n",
       "      <th>beds</th>\n",
       "      <th>bed_type</th>\n",
       "      <th>amenities</th>\n",
       "      <th>square_feet</th>\n",
       "      <th>price</th>\n",
       "      <th>weekly_price</th>\n",
       "      <th>monthly_price</th>\n",
       "      <th>security_deposit</th>\n",
       "      <th>cleaning_fee</th>\n",
       "      <th>guests_included</th>\n",
       "      <th>extra_people</th>\n",
       "      <th>minimum_nights</th>\n",
       "      <th>maximum_nights</th>\n",
       "      <th>calendar_updated</th>\n",
       "      <th>has_availability</th>\n",
       "      <th>availability_30</th>\n",
       "      <th>availability_60</th>\n",
       "      <th>availability_90</th>\n",
       "      <th>availability_365</th>\n",
       "      <th>calendar_last_scraped</th>\n",
       "      <th>number_of_reviews</th>\n",
       "      <th>first_review</th>\n",
       "      <th>last_review</th>\n",
       "      <th>review_scores_rating</th>\n",
       "      <th>review_scores_accuracy</th>\n",
       "      <th>review_scores_cleanliness</th>\n",
       "      <th>review_scores_checkin</th>\n",
       "      <th>review_scores_communication</th>\n",
       "      <th>review_scores_location</th>\n",
       "      <th>review_scores_value</th>\n",
       "      <th>requires_license</th>\n",
       "      <th>license</th>\n",
       "      <th>jurisdiction_names</th>\n",
       "      <th>instant_bookable</th>\n",
       "      <th>cancellation_policy</th>\n",
       "      <th>require_guest_profile_picture</th>\n",
       "      <th>require_guest_phone_verification</th>\n",
       "      <th>calculated_host_listings_count</th>\n",
       "      <th>reviews_per_month</th>\n",
       "    </tr>\n",
       "  </thead>\n",
       "  <tbody>\n",
       "    <tr>\n",
       "      <th>0</th>\n",
       "      <td>241032</td>\n",
       "      <td>https://www.airbnb.com/rooms/241032</td>\n",
       "      <td>20160104002432</td>\n",
       "      <td>2016-01-04</td>\n",
       "      <td>Stylish Queen Anne Apartment</td>\n",
       "      <td>NaN</td>\n",
       "      <td>Make your self at home in this charming one-be...</td>\n",
       "      <td>Make your self at home in this charming one-be...</td>\n",
       "      <td>none</td>\n",
       "      <td>NaN</td>\n",
       "      <td>NaN</td>\n",
       "      <td>NaN</td>\n",
       "      <td>NaN</td>\n",
       "      <td>NaN</td>\n",
       "      <td>https://a1.muscache.com/ac/pictures/67560560/c...</td>\n",
       "      <td>NaN</td>\n",
       "      <td>956883</td>\n",
       "      <td>https://www.airbnb.com/users/show/956883</td>\n",
       "      <td>Maija</td>\n",
       "      <td>2011-08-11</td>\n",
       "      <td>Seattle, Washington, United States</td>\n",
       "      <td>I am an artist, interior designer, and run a s...</td>\n",
       "      <td>within a few hours</td>\n",
       "      <td>96%</td>\n",
       "      <td>100%</td>\n",
       "      <td>f</td>\n",
       "      <td>https://a0.muscache.com/ac/users/956883/profil...</td>\n",
       "      <td>https://a0.muscache.com/ac/users/956883/profil...</td>\n",
       "      <td>Queen Anne</td>\n",
       "      <td>3.0</td>\n",
       "      <td>3.0</td>\n",
       "      <td>['email', 'phone', 'reviews', 'kba']</td>\n",
       "      <td>t</td>\n",
       "      <td>t</td>\n",
       "      <td>Gilman Dr W, Seattle, WA 98119, United States</td>\n",
       "      <td>Queen Anne</td>\n",
       "      <td>West Queen Anne</td>\n",
       "      <td>Queen Anne</td>\n",
       "      <td>Seattle</td>\n",
       "      <td>WA</td>\n",
       "      <td>98119</td>\n",
       "      <td>Seattle</td>\n",
       "      <td>Seattle, WA</td>\n",
       "      <td>US</td>\n",
       "      <td>United States</td>\n",
       "      <td>47.636289</td>\n",
       "      <td>-122.371025</td>\n",
       "      <td>t</td>\n",
       "      <td>Apartment</td>\n",
       "      <td>Entire home/apt</td>\n",
       "      <td>4</td>\n",
       "      <td>1.0</td>\n",
       "      <td>1.0</td>\n",
       "      <td>1.0</td>\n",
       "      <td>Real Bed</td>\n",
       "      <td>{TV,\"Cable TV\",Internet,\"Wireless Internet\",\"A...</td>\n",
       "      <td>NaN</td>\n",
       "      <td>$85.00</td>\n",
       "      <td>NaN</td>\n",
       "      <td>NaN</td>\n",
       "      <td>NaN</td>\n",
       "      <td>NaN</td>\n",
       "      <td>2</td>\n",
       "      <td>$5.00</td>\n",
       "      <td>1</td>\n",
       "      <td>365</td>\n",
       "      <td>4 weeks ago</td>\n",
       "      <td>t</td>\n",
       "      <td>14</td>\n",
       "      <td>41</td>\n",
       "      <td>71</td>\n",
       "      <td>346</td>\n",
       "      <td>2016-01-04</td>\n",
       "      <td>207</td>\n",
       "      <td>2011-11-01</td>\n",
       "      <td>2016-01-02</td>\n",
       "      <td>95.0</td>\n",
       "      <td>10.0</td>\n",
       "      <td>10.0</td>\n",
       "      <td>10.0</td>\n",
       "      <td>10.0</td>\n",
       "      <td>9.0</td>\n",
       "      <td>10.0</td>\n",
       "      <td>f</td>\n",
       "      <td>NaN</td>\n",
       "      <td>WASHINGTON</td>\n",
       "      <td>f</td>\n",
       "      <td>moderate</td>\n",
       "      <td>f</td>\n",
       "      <td>f</td>\n",
       "      <td>2</td>\n",
       "      <td>4.07</td>\n",
       "    </tr>\n",
       "    <tr>\n",
       "      <th>1</th>\n",
       "      <td>953595</td>\n",
       "      <td>https://www.airbnb.com/rooms/953595</td>\n",
       "      <td>20160104002432</td>\n",
       "      <td>2016-01-04</td>\n",
       "      <td>Bright &amp; Airy Queen Anne Apartment</td>\n",
       "      <td>Chemically sensitive? We've removed the irrita...</td>\n",
       "      <td>Beautiful, hypoallergenic apartment in an extr...</td>\n",
       "      <td>Chemically sensitive? We've removed the irrita...</td>\n",
       "      <td>none</td>\n",
       "      <td>Queen Anne is a wonderful, truly functional vi...</td>\n",
       "      <td>What's up with the free pillows?  Our home was...</td>\n",
       "      <td>Convenient bus stops are just down the block, ...</td>\n",
       "      <td>https://a0.muscache.com/ac/pictures/14409893/f...</td>\n",
       "      <td>https://a0.muscache.com/im/pictures/14409893/f...</td>\n",
       "      <td>https://a0.muscache.com/ac/pictures/14409893/f...</td>\n",
       "      <td>https://a0.muscache.com/ac/pictures/14409893/f...</td>\n",
       "      <td>5177328</td>\n",
       "      <td>https://www.airbnb.com/users/show/5177328</td>\n",
       "      <td>Andrea</td>\n",
       "      <td>2013-02-21</td>\n",
       "      <td>Seattle, Washington, United States</td>\n",
       "      <td>Living east coast/left coast/overseas.  Time i...</td>\n",
       "      <td>within an hour</td>\n",
       "      <td>98%</td>\n",
       "      <td>100%</td>\n",
       "      <td>t</td>\n",
       "      <td>https://a0.muscache.com/ac/users/5177328/profi...</td>\n",
       "      <td>https://a0.muscache.com/ac/users/5177328/profi...</td>\n",
       "      <td>Queen Anne</td>\n",
       "      <td>6.0</td>\n",
       "      <td>6.0</td>\n",
       "      <td>['email', 'phone', 'facebook', 'linkedin', 're...</td>\n",
       "      <td>t</td>\n",
       "      <td>t</td>\n",
       "      <td>7th Avenue West, Seattle, WA 98119, United States</td>\n",
       "      <td>Queen Anne</td>\n",
       "      <td>West Queen Anne</td>\n",
       "      <td>Queen Anne</td>\n",
       "      <td>Seattle</td>\n",
       "      <td>WA</td>\n",
       "      <td>98119</td>\n",
       "      <td>Seattle</td>\n",
       "      <td>Seattle, WA</td>\n",
       "      <td>US</td>\n",
       "      <td>United States</td>\n",
       "      <td>47.639123</td>\n",
       "      <td>-122.365666</td>\n",
       "      <td>t</td>\n",
       "      <td>Apartment</td>\n",
       "      <td>Entire home/apt</td>\n",
       "      <td>4</td>\n",
       "      <td>1.0</td>\n",
       "      <td>1.0</td>\n",
       "      <td>1.0</td>\n",
       "      <td>Real Bed</td>\n",
       "      <td>{TV,Internet,\"Wireless Internet\",Kitchen,\"Free...</td>\n",
       "      <td>NaN</td>\n",
       "      <td>$150.00</td>\n",
       "      <td>$1,000.00</td>\n",
       "      <td>$3,000.00</td>\n",
       "      <td>$100.00</td>\n",
       "      <td>$40.00</td>\n",
       "      <td>1</td>\n",
       "      <td>$0.00</td>\n",
       "      <td>2</td>\n",
       "      <td>90</td>\n",
       "      <td>today</td>\n",
       "      <td>t</td>\n",
       "      <td>13</td>\n",
       "      <td>13</td>\n",
       "      <td>16</td>\n",
       "      <td>291</td>\n",
       "      <td>2016-01-04</td>\n",
       "      <td>43</td>\n",
       "      <td>2013-08-19</td>\n",
       "      <td>2015-12-29</td>\n",
       "      <td>96.0</td>\n",
       "      <td>10.0</td>\n",
       "      <td>10.0</td>\n",
       "      <td>10.0</td>\n",
       "      <td>10.0</td>\n",
       "      <td>10.0</td>\n",
       "      <td>10.0</td>\n",
       "      <td>f</td>\n",
       "      <td>NaN</td>\n",
       "      <td>WASHINGTON</td>\n",
       "      <td>f</td>\n",
       "      <td>strict</td>\n",
       "      <td>t</td>\n",
       "      <td>t</td>\n",
       "      <td>6</td>\n",
       "      <td>1.48</td>\n",
       "    </tr>\n",
       "  </tbody>\n",
       "</table>\n",
       "</div>"
      ],
      "text/plain": [
       "       id                          listing_url       scrape_id last_scraped  \\\n",
       "0  241032  https://www.airbnb.com/rooms/241032  20160104002432   2016-01-04   \n",
       "1  953595  https://www.airbnb.com/rooms/953595  20160104002432   2016-01-04   \n",
       "\n",
       "                                 name  \\\n",
       "0        Stylish Queen Anne Apartment   \n",
       "1  Bright & Airy Queen Anne Apartment   \n",
       "\n",
       "                                             summary  \\\n",
       "0                                                NaN   \n",
       "1  Chemically sensitive? We've removed the irrita...   \n",
       "\n",
       "                                               space  \\\n",
       "0  Make your self at home in this charming one-be...   \n",
       "1  Beautiful, hypoallergenic apartment in an extr...   \n",
       "\n",
       "                                         description experiences_offered  \\\n",
       "0  Make your self at home in this charming one-be...                none   \n",
       "1  Chemically sensitive? We've removed the irrita...                none   \n",
       "\n",
       "                               neighborhood_overview  \\\n",
       "0                                                NaN   \n",
       "1  Queen Anne is a wonderful, truly functional vi...   \n",
       "\n",
       "                                               notes  \\\n",
       "0                                                NaN   \n",
       "1  What's up with the free pillows?  Our home was...   \n",
       "\n",
       "                                             transit  \\\n",
       "0                                                NaN   \n",
       "1  Convenient bus stops are just down the block, ...   \n",
       "\n",
       "                                       thumbnail_url  \\\n",
       "0                                                NaN   \n",
       "1  https://a0.muscache.com/ac/pictures/14409893/f...   \n",
       "\n",
       "                                          medium_url  \\\n",
       "0                                                NaN   \n",
       "1  https://a0.muscache.com/im/pictures/14409893/f...   \n",
       "\n",
       "                                         picture_url  \\\n",
       "0  https://a1.muscache.com/ac/pictures/67560560/c...   \n",
       "1  https://a0.muscache.com/ac/pictures/14409893/f...   \n",
       "\n",
       "                                      xl_picture_url  host_id  \\\n",
       "0                                                NaN   956883   \n",
       "1  https://a0.muscache.com/ac/pictures/14409893/f...  5177328   \n",
       "\n",
       "                                    host_url host_name  host_since  \\\n",
       "0   https://www.airbnb.com/users/show/956883     Maija  2011-08-11   \n",
       "1  https://www.airbnb.com/users/show/5177328    Andrea  2013-02-21   \n",
       "\n",
       "                        host_location  \\\n",
       "0  Seattle, Washington, United States   \n",
       "1  Seattle, Washington, United States   \n",
       "\n",
       "                                          host_about  host_response_time  \\\n",
       "0  I am an artist, interior designer, and run a s...  within a few hours   \n",
       "1  Living east coast/left coast/overseas.  Time i...      within an hour   \n",
       "\n",
       "  host_response_rate host_acceptance_rate host_is_superhost  \\\n",
       "0                96%                 100%                 f   \n",
       "1                98%                 100%                 t   \n",
       "\n",
       "                                  host_thumbnail_url  \\\n",
       "0  https://a0.muscache.com/ac/users/956883/profil...   \n",
       "1  https://a0.muscache.com/ac/users/5177328/profi...   \n",
       "\n",
       "                                    host_picture_url host_neighbourhood  \\\n",
       "0  https://a0.muscache.com/ac/users/956883/profil...         Queen Anne   \n",
       "1  https://a0.muscache.com/ac/users/5177328/profi...         Queen Anne   \n",
       "\n",
       "   host_listings_count  host_total_listings_count  \\\n",
       "0                  3.0                        3.0   \n",
       "1                  6.0                        6.0   \n",
       "\n",
       "                                  host_verifications host_has_profile_pic  \\\n",
       "0               ['email', 'phone', 'reviews', 'kba']                    t   \n",
       "1  ['email', 'phone', 'facebook', 'linkedin', 're...                    t   \n",
       "\n",
       "  host_identity_verified                                             street  \\\n",
       "0                      t      Gilman Dr W, Seattle, WA 98119, United States   \n",
       "1                      t  7th Avenue West, Seattle, WA 98119, United States   \n",
       "\n",
       "  neighbourhood neighbourhood_cleansed neighbourhood_group_cleansed     city  \\\n",
       "0    Queen Anne        West Queen Anne                   Queen Anne  Seattle   \n",
       "1    Queen Anne        West Queen Anne                   Queen Anne  Seattle   \n",
       "\n",
       "  state zipcode   market smart_location country_code        country  \\\n",
       "0    WA   98119  Seattle    Seattle, WA           US  United States   \n",
       "1    WA   98119  Seattle    Seattle, WA           US  United States   \n",
       "\n",
       "    latitude   longitude is_location_exact property_type        room_type  \\\n",
       "0  47.636289 -122.371025                 t     Apartment  Entire home/apt   \n",
       "1  47.639123 -122.365666                 t     Apartment  Entire home/apt   \n",
       "\n",
       "   accommodates  bathrooms  bedrooms  beds  bed_type  \\\n",
       "0             4        1.0       1.0   1.0  Real Bed   \n",
       "1             4        1.0       1.0   1.0  Real Bed   \n",
       "\n",
       "                                           amenities  square_feet    price  \\\n",
       "0  {TV,\"Cable TV\",Internet,\"Wireless Internet\",\"A...          NaN   $85.00   \n",
       "1  {TV,Internet,\"Wireless Internet\",Kitchen,\"Free...          NaN  $150.00   \n",
       "\n",
       "  weekly_price monthly_price security_deposit cleaning_fee  guests_included  \\\n",
       "0          NaN           NaN              NaN          NaN                2   \n",
       "1    $1,000.00     $3,000.00          $100.00       $40.00                1   \n",
       "\n",
       "  extra_people  minimum_nights  maximum_nights calendar_updated  \\\n",
       "0        $5.00               1             365      4 weeks ago   \n",
       "1        $0.00               2              90            today   \n",
       "\n",
       "  has_availability  availability_30  availability_60  availability_90  \\\n",
       "0                t               14               41               71   \n",
       "1                t               13               13               16   \n",
       "\n",
       "   availability_365 calendar_last_scraped  number_of_reviews first_review  \\\n",
       "0               346            2016-01-04                207   2011-11-01   \n",
       "1               291            2016-01-04                 43   2013-08-19   \n",
       "\n",
       "  last_review  review_scores_rating  review_scores_accuracy  \\\n",
       "0  2016-01-02                  95.0                    10.0   \n",
       "1  2015-12-29                  96.0                    10.0   \n",
       "\n",
       "   review_scores_cleanliness  review_scores_checkin  \\\n",
       "0                       10.0                   10.0   \n",
       "1                       10.0                   10.0   \n",
       "\n",
       "   review_scores_communication  review_scores_location  review_scores_value  \\\n",
       "0                         10.0                     9.0                 10.0   \n",
       "1                         10.0                    10.0                 10.0   \n",
       "\n",
       "  requires_license  license jurisdiction_names instant_bookable  \\\n",
       "0                f      NaN         WASHINGTON                f   \n",
       "1                f      NaN         WASHINGTON                f   \n",
       "\n",
       "  cancellation_policy require_guest_profile_picture  \\\n",
       "0            moderate                             f   \n",
       "1              strict                             t   \n",
       "\n",
       "  require_guest_phone_verification  calculated_host_listings_count  \\\n",
       "0                                f                               2   \n",
       "1                                t                               6   \n",
       "\n",
       "   reviews_per_month  \n",
       "0               4.07  \n",
       "1               1.48  "
      ]
     },
     "execution_count": 73,
     "metadata": {},
     "output_type": "execute_result"
    }
   ],
   "source": [
    "listing.head(2)"
   ]
  },
  {
   "cell_type": "code",
   "execution_count": 38,
   "metadata": {},
   "outputs": [],
   "source": [
    "cal_n=cal.merge(listing[['id','neighbourhood']],left_on='listing_id',right_on='id',how='left')"
   ]
  },
  {
   "cell_type": "code",
   "execution_count": 10,
   "metadata": {},
   "outputs": [
    {
     "data": {
      "text/html": [
       "<div>\n",
       "<style scoped>\n",
       "    .dataframe tbody tr th:only-of-type {\n",
       "        vertical-align: middle;\n",
       "    }\n",
       "\n",
       "    .dataframe tbody tr th {\n",
       "        vertical-align: top;\n",
       "    }\n",
       "\n",
       "    .dataframe thead th {\n",
       "        text-align: right;\n",
       "    }\n",
       "</style>\n",
       "<table border=\"1\" class=\"dataframe\">\n",
       "  <thead>\n",
       "    <tr style=\"text-align: right;\">\n",
       "      <th></th>\n",
       "      <th>listing_id</th>\n",
       "    </tr>\n",
       "    <tr>\n",
       "      <th>neighbourhood</th>\n",
       "      <th></th>\n",
       "    </tr>\n",
       "  </thead>\n",
       "  <tbody>\n",
       "    <tr>\n",
       "      <th>Capitol Hill</th>\n",
       "      <td>128115</td>\n",
       "    </tr>\n",
       "    <tr>\n",
       "      <th>Ballard</th>\n",
       "      <td>77745</td>\n",
       "    </tr>\n",
       "    <tr>\n",
       "      <th>Belltown</th>\n",
       "      <td>74460</td>\n",
       "    </tr>\n",
       "    <tr>\n",
       "      <th>Minor</th>\n",
       "      <td>70080</td>\n",
       "    </tr>\n",
       "    <tr>\n",
       "      <th>Queen Anne</th>\n",
       "      <td>68255</td>\n",
       "    </tr>\n",
       "    <tr>\n",
       "      <th>...</th>\n",
       "      <td>...</td>\n",
       "    </tr>\n",
       "    <tr>\n",
       "      <th>Pike Market</th>\n",
       "      <td>730</td>\n",
       "    </tr>\n",
       "    <tr>\n",
       "      <th>South Beacon Hill</th>\n",
       "      <td>730</td>\n",
       "    </tr>\n",
       "    <tr>\n",
       "      <th>Roxhill</th>\n",
       "      <td>365</td>\n",
       "    </tr>\n",
       "    <tr>\n",
       "      <th>North College Park</th>\n",
       "      <td>365</td>\n",
       "    </tr>\n",
       "    <tr>\n",
       "      <th>Fairmount Park</th>\n",
       "      <td>365</td>\n",
       "    </tr>\n",
       "  </tbody>\n",
       "</table>\n",
       "<p>81 rows × 1 columns</p>\n",
       "</div>"
      ],
      "text/plain": [
       "                    listing_id\n",
       "neighbourhood                 \n",
       "Capitol Hill            128115\n",
       "Ballard                  77745\n",
       "Belltown                 74460\n",
       "Minor                    70080\n",
       "Queen Anne               68255\n",
       "...                        ...\n",
       "Pike Market                730\n",
       "South Beacon Hill          730\n",
       "Roxhill                    365\n",
       "North College Park         365\n",
       "Fairmount Park             365\n",
       "\n",
       "[81 rows x 1 columns]"
      ]
     },
     "execution_count": 10,
     "metadata": {},
     "output_type": "execute_result"
    }
   ],
   "source": [
    "cal_n.groupby('neighbourhood').agg({'listing_id':'count'}).sort_values(by='listing_id',ascending=False)"
   ]
  },
  {
   "cell_type": "code",
   "execution_count": 88,
   "metadata": {},
   "outputs": [
    {
     "data": {
      "text/plain": [
       "<matplotlib.axes._subplots.AxesSubplot at 0x1d9b6990f08>"
      ]
     },
     "execution_count": 88,
     "metadata": {},
     "output_type": "execute_result"
    },
    {
     "data": {
      "image/png": "[encoded data removed]",
      "text/plain": [
       "<Figure size 432x288 with 1 Axes>"
      ]
     },
     "metadata": {
      "needs_background": "light"
     },
     "output_type": "display_data"
    }
   ],
   "source": [
    "cal_n.groupby(['date']).agg({'price':'mean'}).plot()"
   ]
  },
  {
   "cell_type": "code",
   "execution_count": 12,
   "metadata": {},
   "outputs": [
    {
     "data": {
      "text/plain": [
       "<matplotlib.axes._subplots.AxesSubplot at 0x1d9a4534cc8>"
      ]
     },
     "execution_count": 12,
     "metadata": {},
     "output_type": "execute_result"
    },
    {
     "data": {
      "image/png": "[encoded data removed]",
      "text/plain": [
       "<Figure size 432x288 with 1 Axes>"
      ]
     },
     "metadata": {
      "needs_background": "light"
     },
     "output_type": "display_data"
    }
   ],
   "source": [
    "cal_n.groupby(['neighbourhood']).agg({'price':'mean'}).sort_values(by='price',ascending=False).head(15).plot.bar()"
   ]
  },
  {
   "cell_type": "code",
   "execution_count": 13,
   "metadata": {},
   "outputs": [
    {
     "data": {
      "text/plain": [
       "<matplotlib.axes._subplots.AxesSubplot at 0x1d9a699f088>"
      ]
     },
     "execution_count": 13,
     "metadata": {},
     "output_type": "execute_result"
    },
    {
     "data": {
      "image/png": "[encoded data removed]",
      "text/plain": [
       "<Figure size 432x288 with 1 Axes>"
      ]
     },
     "metadata": {
      "needs_background": "light"
     },
     "output_type": "display_data"
    }
   ],
   "source": [
    "cal_n.groupby(['neighbourhood']).agg({'price':'mean'}).sort_values(by='price',ascending=False).tail(15).plot.bar()"
   ]
  },
  {
   "cell_type": "code",
   "execution_count": 120,
   "metadata": {},
   "outputs": [
    {
     "data": {
      "text/plain": [
       "<matplotlib.axes._subplots.AxesSubplot at 0x1d9b6c92188>"
      ]
     },
     "execution_count": 120,
     "metadata": {},
     "output_type": "execute_result"
    },
    {
     "data": {
      "image/png": "[encoded data removed]",
      "text/plain": [
       "<Figure size 432x288 with 1 Axes>"
      ]
     },
     "metadata": {
      "needs_background": "light"
     },
     "output_type": "display_data"
    }
   ],
   "source": [
    "cal_n.groupby(['date']).agg({'price':'mean'}).rolling(window=30).mean().plot()"
   ]
  },
  {
   "cell_type": "code",
   "execution_count": 91,
   "metadata": {},
   "outputs": [
    {
     "data": {
      "text/html": [
       "<div>\n",
       "<style scoped>\n",
       "    .dataframe tbody tr th:only-of-type {\n",
       "        vertical-align: middle;\n",
       "    }\n",
       "\n",
       "    .dataframe tbody tr th {\n",
       "        vertical-align: top;\n",
       "    }\n",
       "\n",
       "    .dataframe thead th {\n",
       "        text-align: right;\n",
       "    }\n",
       "</style>\n",
       "<table border=\"1\" class=\"dataframe\">\n",
       "  <thead>\n",
       "    <tr style=\"text-align: right;\">\n",
       "      <th></th>\n",
       "      <th>listing_id</th>\n",
       "      <th>date</th>\n",
       "      <th>available</th>\n",
       "      <th>price</th>\n",
       "      <th>id</th>\n",
       "      <th>neighbourhood</th>\n",
       "    </tr>\n",
       "  </thead>\n",
       "  <tbody>\n",
       "    <tr>\n",
       "      <th>0</th>\n",
       "      <td>241032</td>\n",
       "      <td>2016-01-04</td>\n",
       "      <td>True</td>\n",
       "      <td>85.0</td>\n",
       "      <td>241032</td>\n",
       "      <td>Queen Anne</td>\n",
       "    </tr>\n",
       "    <tr>\n",
       "      <th>1</th>\n",
       "      <td>241032</td>\n",
       "      <td>2016-01-05</td>\n",
       "      <td>True</td>\n",
       "      <td>85.0</td>\n",
       "      <td>241032</td>\n",
       "      <td>Queen Anne</td>\n",
       "    </tr>\n",
       "    <tr>\n",
       "      <th>2</th>\n",
       "      <td>241032</td>\n",
       "      <td>2016-01-06</td>\n",
       "      <td>False</td>\n",
       "      <td>NaN</td>\n",
       "      <td>241032</td>\n",
       "      <td>Queen Anne</td>\n",
       "    </tr>\n",
       "    <tr>\n",
       "      <th>3</th>\n",
       "      <td>241032</td>\n",
       "      <td>2016-01-07</td>\n",
       "      <td>False</td>\n",
       "      <td>NaN</td>\n",
       "      <td>241032</td>\n",
       "      <td>Queen Anne</td>\n",
       "    </tr>\n",
       "    <tr>\n",
       "      <th>4</th>\n",
       "      <td>241032</td>\n",
       "      <td>2016-01-08</td>\n",
       "      <td>False</td>\n",
       "      <td>NaN</td>\n",
       "      <td>241032</td>\n",
       "      <td>Queen Anne</td>\n",
       "    </tr>\n",
       "  </tbody>\n",
       "</table>\n",
       "</div>"
      ],
      "text/plain": [
       "   listing_id       date  available  price      id neighbourhood\n",
       "0      241032 2016-01-04       True   85.0  241032    Queen Anne\n",
       "1      241032 2016-01-05       True   85.0  241032    Queen Anne\n",
       "2      241032 2016-01-06      False    NaN  241032    Queen Anne\n",
       "3      241032 2016-01-07      False    NaN  241032    Queen Anne\n",
       "4      241032 2016-01-08      False    NaN  241032    Queen Anne"
      ]
     },
     "execution_count": 91,
     "metadata": {},
     "output_type": "execute_result"
    }
   ],
   "source": [
    "cal_n.groupby(['neighbourhood','listing_id']).sum()"
   ]
  },
  {
   "cell_type": "code",
   "execution_count": 92,
   "metadata": {},
   "outputs": [],
   "source": [
    "avail=cal_n.groupby(['neighbourhood','listing_id']).sum()[['available']]\n",
    "avail_n=avail.reset_index().groupby('neighbourhood').mean()[['available']]"
   ]
  },
  {
   "cell_type": "code",
   "execution_count": 93,
   "metadata": {},
   "outputs": [
    {
     "data": {
      "text/plain": [
       "<matplotlib.axes._subplots.AxesSubplot at 0x1d9b6ab3788>"
      ]
     },
     "execution_count": 93,
     "metadata": {},
     "output_type": "execute_result"
    },
    {
     "data": {
      "image/png": "[encoded data removed]",
      "text/plain": [
       "<Figure size 432x288 with 1 Axes>"
      ]
     },
     "metadata": {
      "needs_background": "light"
     },
     "output_type": "display_data"
    }
   ],
   "source": [
    "avail_n.sort_values(by='available',ascending=False).head(15).plot.bar()"
   ]
  },
  {
   "cell_type": "code",
   "execution_count": 94,
   "metadata": {},
   "outputs": [
    {
     "data": {
      "text/plain": [
       "<matplotlib.axes._subplots.AxesSubplot at 0x1d9b6d33848>"
      ]
     },
     "execution_count": 94,
     "metadata": {},
     "output_type": "execute_result"
    },
    {
     "data": {
      "image/png": "[encoded data removed]",
      "text/plain": [
       "<Figure size 432x288 with 1 Axes>"
      ]
     },
     "metadata": {
      "needs_background": "light"
     },
     "output_type": "display_data"
    }
   ],
   "source": [
    "avail_n.sort_values(by='available',ascending=False).tail(15).plot.bar()"
   ]
  },
  {
   "cell_type": "code",
   "execution_count": 98,
   "metadata": {},
   "outputs": [],
   "source": [
    "revenue=avail.reset_index().merge(listing[['id','price']],left_on='listing_id',right_on='id',how='left')"
   ]
  },
  {
   "cell_type": "code",
   "execution_count": 100,
   "metadata": {},
   "outputs": [],
   "source": [
    "revenue['year_revenue']=(365-revenue.available)*revenue.price"
   ]
  },
  {
   "cell_type": "code",
   "execution_count": 105,
   "metadata": {},
   "outputs": [],
   "source": [
    "revenue_mean=revenue.groupby('neighbourhood').mean()[['year_revenue']]"
   ]
  },
  {
   "cell_type": "code",
   "execution_count": 107,
   "metadata": {},
   "outputs": [
    {
     "data": {
      "text/plain": [
       "<matplotlib.axes._subplots.AxesSubplot at 0x1d9b7b73608>"
      ]
     },
     "execution_count": 107,
     "metadata": {},
     "output_type": "execute_result"
    },
    {
     "data": {
      "image/png": "[encoded data removed]",
      "text/plain": [
       "<Figure size 432x288 with 1 Axes>"
      ]
     },
     "metadata": {
      "needs_background": "light"
     },
     "output_type": "display_data"
    }
   ],
   "source": [
    "revenue_mean.sort_values(by='year_revenue',ascending=False).head(15).plot.bar()"
   ]
  },
  {
   "cell_type": "code",
   "execution_count": 84,
   "metadata": {},
   "outputs": [
    {
     "data": {
      "text/plain": [
       "<matplotlib.axes._subplots.AxesSubplot at 0x1d9b2586548>"
      ]
     },
     "execution_count": 84,
     "metadata": {},
     "output_type": "execute_result"
    },
    {
     "data": {
      "image/png": "[encoded data removed]",
      "text/plain": [
       "<Figure size 432x288 with 1 Axes>"
      ]
     },
     "metadata": {
      "needs_background": "light"
     },
     "output_type": "display_data"
    }
   ],
   "source": [
    "price_n=listing.groupby('neighbourhood').mean()[['price']]\n",
    "price_n.sort_values(by='price',ascending=False).head(15).plot.bar()"
   ]
  },
  {
   "cell_type": "code",
   "execution_count": 85,
   "metadata": {},
   "outputs": [
    {
     "data": {
      "text/plain": [
       "<matplotlib.axes._subplots.AxesSubplot at 0x1d9b27b4ec8>"
      ]
     },
     "execution_count": 85,
     "metadata": {},
     "output_type": "execute_result"
    },
    {
     "data": {
      "image/png": "[encoded data removed]",
      "text/plain": [
       "<Figure size 432x288 with 1 Axes>"
      ]
     },
     "metadata": {
      "needs_background": "light"
     },
     "output_type": "display_data"
    }
   ],
   "source": [
    "price_n.sort_values(by='price',ascending=False).tail(15).plot.bar()"
   ]
  },
  {
   "cell_type": "code",
   "execution_count": 121,
   "metadata": {},
   "outputs": [],
   "source": [
    "# Data\n",
    "r = [0,1,2,3,4]\n",
    "raw_data = {'greenBars': [20, 1.5, 7, 10, 5], 'orangeBars': [5, 15, 5, 10, 15],'blueBars': [2, 15, 18, 5, 10]}\n",
    "df = pd.DataFrame(raw_data)\n",
    " \n",
    "# From raw value to percentage\n",
    "totals = [i+j+k for i,j,k in zip(df['greenBars'], df['orangeBars'], df['blueBars'])]\n",
    "greenBars = [i / j * 100 for i,j in zip(df['greenBars'], totals)]\n",
    "orangeBars = [i / j * 100 for i,j in zip(df['orangeBars'], totals)]\n",
    "blueBars = [i / j * 100 for i,j in zip(df['blueBars'], totals)]\n"
   ]
  },
  {
   "cell_type": "code",
   "execution_count": 122,
   "metadata": {},
   "outputs": [
    {
     "data": {
      "text/plain": [
       "Text(0.5, 0, 'group')"
      ]
     },
     "execution_count": 122,
     "metadata": {},
     "output_type": "execute_result"
    },
    {
     "data": {
      "image/png": "[encoded data removed]",
      "text/plain": [
       "<Figure size 432x288 with 1 Axes>"
      ]
     },
     "metadata": {
      "needs_background": "light"
     },
     "output_type": "display_data"
    }
   ],
   "source": [
    "# plot\n",
    "barWidth = 0.85\n",
    "names = ('A','B','C','D','E')\n",
    "# Create green Bars\n",
    "plt.bar(r, greenBars, color='#b5ffb9', edgecolor='white', width=barWidth)\n",
    "# Create orange Bars\n",
    "plt.bar(r, orangeBars, bottom=greenBars, color='#f9bc86', edgecolor='white', width=barWidth)\n",
    "# Create blue Bars\n",
    "plt.bar(r, blueBars, bottom=[i+j for i,j in zip(greenBars, orangeBars)], color='#a3acff', edgecolor='white', width=barWidth)\n",
    " \n",
    "# Custom x axis\n",
    "plt.xticks(r, names)\n",
    "plt.xlabel(\"group\")\n",
    " \n",
    "# Show graphic\n"
   ]
  }
 ],
 "metadata": {
  "kernelspec": {
   "display_name": "Python 3",
   "language": "python",
   "name": "python3"
  },
  "language_info": {
   "codemirror_mode": {
    "name": "ipython",
    "version": 3
   },
   "file_extension": ".py",
   "mimetype": "text/x-python",
   "name": "python",
   "nbconvert_exporter": "python",
   "pygments_lexer": "ipython3",
   "version": "3.7.7"
  }
 },
 "nbformat": 4,
 "nbformat_minor": 4
}
